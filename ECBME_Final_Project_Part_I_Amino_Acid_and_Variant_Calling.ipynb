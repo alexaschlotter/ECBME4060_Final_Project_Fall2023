{
  "nbformat": 4,
  "nbformat_minor": 0,
  "metadata": {
    "colab": {
      "provenance": []
    },
    "kernelspec": {
      "name": "python3",
      "display_name": "Python 3"
    },
    "language_info": {
      "name": "python"
    }
  },
  "cells": [
    {
      "cell_type": "markdown",
      "source": [
        "#Alexa Schlotter and Kangzhe Zhou\n",
        "##Final Project: Amino Acid Evolution in COVID-19 Variants (2021-2022): Correlating Changes with Case Dynamics, Hospitalizations, and Testing Efficacy in New York City"
      ],
      "metadata": {
        "id": "GANSeK1FQuO_"
      }
    },
    {
      "cell_type": "markdown",
      "source": [
        "##Install Prerequisites"
      ],
      "metadata": {
        "id": "SdKfWd5CQqvj"
      }
    },
    {
      "cell_type": "code",
      "source": [
        "!pip install biopython\n",
        "!pip install ipytree\n",
        "!pip install scikit-allel\n",
        "!pip install zarr\n",
        "!pip install pysam\n",
        "!pip install pyvcf\n",
        "!pip install numcodecs\n",
        "!pip install dask\n",
        "!wget https://mafft.cbrc.jp/alignment/software/mafft_7.471-1_amd64.deb\n",
        "!sudo dpkg -i mafft_7.471-1_amd64.deb"
      ],
      "metadata": {
        "colab": {
          "base_uri": "https://localhost:8080/"
        },
        "id": "vgxccr1PQxss",
        "outputId": "a56f1aa3-fddb-4144-893d-78d7d84ce52d"
      },
      "execution_count": null,
      "outputs": [
        {
          "output_type": "stream",
          "name": "stdout",
          "text": [
            "Collecting biopython\n",
            "  Downloading biopython-1.81-cp310-cp310-manylinux_2_17_x86_64.manylinux2014_x86_64.whl (3.1 MB)\n",
            "\u001b[2K     \u001b[90m━━━━━━━━━━━━━━━━━━━━━━━━━━━━━━━━━━━━━━━━\u001b[0m \u001b[32m3.1/3.1 MB\u001b[0m \u001b[31m10.5 MB/s\u001b[0m eta \u001b[36m0:00:00\u001b[0m\n",
            "\u001b[?25hRequirement already satisfied: numpy in /usr/local/lib/python3.10/dist-packages (from biopython) (1.23.5)\n",
            "Installing collected packages: biopython\n",
            "Successfully installed biopython-1.81\n",
            "Requirement already satisfied: ipytree in /usr/local/lib/python3.10/dist-packages (0.2.2)\n",
            "Requirement already satisfied: ipywidgets<9,>=7.5.0 in /usr/local/lib/python3.10/dist-packages (from ipytree) (7.7.1)\n",
            "Requirement already satisfied: ipykernel>=4.5.1 in /usr/local/lib/python3.10/dist-packages (from ipywidgets<9,>=7.5.0->ipytree) (5.5.6)\n",
            "Requirement already satisfied: ipython-genutils~=0.2.0 in /usr/local/lib/python3.10/dist-packages (from ipywidgets<9,>=7.5.0->ipytree) (0.2.0)\n",
            "Requirement already satisfied: traitlets>=4.3.1 in /usr/local/lib/python3.10/dist-packages (from ipywidgets<9,>=7.5.0->ipytree) (5.7.1)\n",
            "Requirement already satisfied: widgetsnbextension~=3.6.0 in /usr/local/lib/python3.10/dist-packages (from ipywidgets<9,>=7.5.0->ipytree) (3.6.6)\n",
            "Requirement already satisfied: ipython>=4.0.0 in /usr/local/lib/python3.10/dist-packages (from ipywidgets<9,>=7.5.0->ipytree) (7.34.0)\n",
            "Requirement already satisfied: jupyterlab-widgets>=1.0.0 in /usr/local/lib/python3.10/dist-packages (from ipywidgets<9,>=7.5.0->ipytree) (3.0.9)\n",
            "Requirement already satisfied: jupyter-client in /usr/local/lib/python3.10/dist-packages (from ipykernel>=4.5.1->ipywidgets<9,>=7.5.0->ipytree) (6.1.12)\n",
            "Requirement already satisfied: tornado>=4.2 in /usr/local/lib/python3.10/dist-packages (from ipykernel>=4.5.1->ipywidgets<9,>=7.5.0->ipytree) (6.3.2)\n",
            "Requirement already satisfied: setuptools>=18.5 in /usr/local/lib/python3.10/dist-packages (from ipython>=4.0.0->ipywidgets<9,>=7.5.0->ipytree) (67.7.2)\n",
            "Collecting jedi>=0.16 (from ipython>=4.0.0->ipywidgets<9,>=7.5.0->ipytree)\n",
            "  Downloading jedi-0.19.1-py2.py3-none-any.whl (1.6 MB)\n",
            "\u001b[2K     \u001b[90m━━━━━━━━━━━━━━━━━━━━━━━━━━━━━━━━━━━━━━━━\u001b[0m \u001b[32m1.6/1.6 MB\u001b[0m \u001b[31m18.1 MB/s\u001b[0m eta \u001b[36m0:00:00\u001b[0m\n",
            "\u001b[?25hRequirement already satisfied: decorator in /usr/local/lib/python3.10/dist-packages (from ipython>=4.0.0->ipywidgets<9,>=7.5.0->ipytree) (4.4.2)\n",
            "Requirement already satisfied: pickleshare in /usr/local/lib/python3.10/dist-packages (from ipython>=4.0.0->ipywidgets<9,>=7.5.0->ipytree) (0.7.5)\n",
            "Requirement already satisfied: prompt-toolkit!=3.0.0,!=3.0.1,<3.1.0,>=2.0.0 in /usr/local/lib/python3.10/dist-packages (from ipython>=4.0.0->ipywidgets<9,>=7.5.0->ipytree) (3.0.41)\n",
            "Requirement already satisfied: pygments in /usr/local/lib/python3.10/dist-packages (from ipython>=4.0.0->ipywidgets<9,>=7.5.0->ipytree) (2.16.1)\n",
            "Requirement already satisfied: backcall in /usr/local/lib/python3.10/dist-packages (from ipython>=4.0.0->ipywidgets<9,>=7.5.0->ipytree) (0.2.0)\n",
            "Requirement already satisfied: matplotlib-inline in /usr/local/lib/python3.10/dist-packages (from ipython>=4.0.0->ipywidgets<9,>=7.5.0->ipytree) (0.1.6)\n",
            "Requirement already satisfied: pexpect>4.3 in /usr/local/lib/python3.10/dist-packages (from ipython>=4.0.0->ipywidgets<9,>=7.5.0->ipytree) (4.9.0)\n",
            "Requirement already satisfied: notebook>=4.4.1 in /usr/local/lib/python3.10/dist-packages (from widgetsnbextension~=3.6.0->ipywidgets<9,>=7.5.0->ipytree) (6.5.5)\n",
            "Requirement already satisfied: parso<0.9.0,>=0.8.3 in /usr/local/lib/python3.10/dist-packages (from jedi>=0.16->ipython>=4.0.0->ipywidgets<9,>=7.5.0->ipytree) (0.8.3)\n",
            "Requirement already satisfied: jinja2 in /usr/local/lib/python3.10/dist-packages (from notebook>=4.4.1->widgetsnbextension~=3.6.0->ipywidgets<9,>=7.5.0->ipytree) (3.1.2)\n",
            "Requirement already satisfied: pyzmq<25,>=17 in /usr/local/lib/python3.10/dist-packages (from notebook>=4.4.1->widgetsnbextension~=3.6.0->ipywidgets<9,>=7.5.0->ipytree) (23.2.1)\n",
            "Requirement already satisfied: argon2-cffi in /usr/local/lib/python3.10/dist-packages (from notebook>=4.4.1->widgetsnbextension~=3.6.0->ipywidgets<9,>=7.5.0->ipytree) (23.1.0)\n",
            "Requirement already satisfied: jupyter-core>=4.6.1 in /usr/local/lib/python3.10/dist-packages (from notebook>=4.4.1->widgetsnbextension~=3.6.0->ipywidgets<9,>=7.5.0->ipytree) (5.5.0)\n",
            "Requirement already satisfied: nbformat in /usr/local/lib/python3.10/dist-packages (from notebook>=4.4.1->widgetsnbextension~=3.6.0->ipywidgets<9,>=7.5.0->ipytree) (5.9.2)\n",
            "Requirement already satisfied: nbconvert>=5 in /usr/local/lib/python3.10/dist-packages (from notebook>=4.4.1->widgetsnbextension~=3.6.0->ipywidgets<9,>=7.5.0->ipytree) (6.5.4)\n",
            "Requirement already satisfied: nest-asyncio>=1.5 in /usr/local/lib/python3.10/dist-packages (from notebook>=4.4.1->widgetsnbextension~=3.6.0->ipywidgets<9,>=7.5.0->ipytree) (1.5.8)\n",
            "Requirement already satisfied: Send2Trash>=1.8.0 in /usr/local/lib/python3.10/dist-packages (from notebook>=4.4.1->widgetsnbextension~=3.6.0->ipywidgets<9,>=7.5.0->ipytree) (1.8.2)\n",
            "Requirement already satisfied: terminado>=0.8.3 in /usr/local/lib/python3.10/dist-packages (from notebook>=4.4.1->widgetsnbextension~=3.6.0->ipywidgets<9,>=7.5.0->ipytree) (0.18.0)\n",
            "Requirement already satisfied: prometheus-client in /usr/local/lib/python3.10/dist-packages (from notebook>=4.4.1->widgetsnbextension~=3.6.0->ipywidgets<9,>=7.5.0->ipytree) (0.19.0)\n",
            "Requirement already satisfied: nbclassic>=0.4.7 in /usr/local/lib/python3.10/dist-packages (from notebook>=4.4.1->widgetsnbextension~=3.6.0->ipywidgets<9,>=7.5.0->ipytree) (1.0.0)\n",
            "Requirement already satisfied: python-dateutil>=2.1 in /usr/local/lib/python3.10/dist-packages (from jupyter-client->ipykernel>=4.5.1->ipywidgets<9,>=7.5.0->ipytree) (2.8.2)\n",
            "Requirement already satisfied: ptyprocess>=0.5 in /usr/local/lib/python3.10/dist-packages (from pexpect>4.3->ipython>=4.0.0->ipywidgets<9,>=7.5.0->ipytree) (0.7.0)\n",
            "Requirement already satisfied: wcwidth in /usr/local/lib/python3.10/dist-packages (from prompt-toolkit!=3.0.0,!=3.0.1,<3.1.0,>=2.0.0->ipython>=4.0.0->ipywidgets<9,>=7.5.0->ipytree) (0.2.12)\n",
            "Requirement already satisfied: platformdirs>=2.5 in /usr/local/lib/python3.10/dist-packages (from jupyter-core>=4.6.1->notebook>=4.4.1->widgetsnbextension~=3.6.0->ipywidgets<9,>=7.5.0->ipytree) (4.0.0)\n",
            "Requirement already satisfied: jupyter-server>=1.8 in /usr/local/lib/python3.10/dist-packages (from nbclassic>=0.4.7->notebook>=4.4.1->widgetsnbextension~=3.6.0->ipywidgets<9,>=7.5.0->ipytree) (1.24.0)\n",
            "Requirement already satisfied: notebook-shim>=0.2.3 in /usr/local/lib/python3.10/dist-packages (from nbclassic>=0.4.7->notebook>=4.4.1->widgetsnbextension~=3.6.0->ipywidgets<9,>=7.5.0->ipytree) (0.2.3)\n",
            "Requirement already satisfied: lxml in /usr/local/lib/python3.10/dist-packages (from nbconvert>=5->notebook>=4.4.1->widgetsnbextension~=3.6.0->ipywidgets<9,>=7.5.0->ipytree) (4.9.3)\n",
            "Requirement already satisfied: beautifulsoup4 in /usr/local/lib/python3.10/dist-packages (from nbconvert>=5->notebook>=4.4.1->widgetsnbextension~=3.6.0->ipywidgets<9,>=7.5.0->ipytree) (4.11.2)\n",
            "Requirement already satisfied: bleach in /usr/local/lib/python3.10/dist-packages (from nbconvert>=5->notebook>=4.4.1->widgetsnbextension~=3.6.0->ipywidgets<9,>=7.5.0->ipytree) (6.1.0)\n",
            "Requirement already satisfied: defusedxml in /usr/local/lib/python3.10/dist-packages (from nbconvert>=5->notebook>=4.4.1->widgetsnbextension~=3.6.0->ipywidgets<9,>=7.5.0->ipytree) (0.7.1)\n",
            "Requirement already satisfied: entrypoints>=0.2.2 in /usr/local/lib/python3.10/dist-packages (from nbconvert>=5->notebook>=4.4.1->widgetsnbextension~=3.6.0->ipywidgets<9,>=7.5.0->ipytree) (0.4)\n",
            "Requirement already satisfied: jupyterlab-pygments in /usr/local/lib/python3.10/dist-packages (from nbconvert>=5->notebook>=4.4.1->widgetsnbextension~=3.6.0->ipywidgets<9,>=7.5.0->ipytree) (0.3.0)\n",
            "Requirement already satisfied: MarkupSafe>=2.0 in /usr/local/lib/python3.10/dist-packages (from nbconvert>=5->notebook>=4.4.1->widgetsnbextension~=3.6.0->ipywidgets<9,>=7.5.0->ipytree) (2.1.3)\n",
            "Requirement already satisfied: mistune<2,>=0.8.1 in /usr/local/lib/python3.10/dist-packages (from nbconvert>=5->notebook>=4.4.1->widgetsnbextension~=3.6.0->ipywidgets<9,>=7.5.0->ipytree) (0.8.4)\n",
            "Requirement already satisfied: nbclient>=0.5.0 in /usr/local/lib/python3.10/dist-packages (from nbconvert>=5->notebook>=4.4.1->widgetsnbextension~=3.6.0->ipywidgets<9,>=7.5.0->ipytree) (0.9.0)\n",
            "Requirement already satisfied: packaging in /usr/local/lib/python3.10/dist-packages (from nbconvert>=5->notebook>=4.4.1->widgetsnbextension~=3.6.0->ipywidgets<9,>=7.5.0->ipytree) (23.2)\n",
            "Requirement already satisfied: pandocfilters>=1.4.1 in /usr/local/lib/python3.10/dist-packages (from nbconvert>=5->notebook>=4.4.1->widgetsnbextension~=3.6.0->ipywidgets<9,>=7.5.0->ipytree) (1.5.0)\n",
            "Requirement already satisfied: tinycss2 in /usr/local/lib/python3.10/dist-packages (from nbconvert>=5->notebook>=4.4.1->widgetsnbextension~=3.6.0->ipywidgets<9,>=7.5.0->ipytree) (1.2.1)\n",
            "Requirement already satisfied: fastjsonschema in /usr/local/lib/python3.10/dist-packages (from nbformat->notebook>=4.4.1->widgetsnbextension~=3.6.0->ipywidgets<9,>=7.5.0->ipytree) (2.19.0)\n",
            "Requirement already satisfied: jsonschema>=2.6 in /usr/local/lib/python3.10/dist-packages (from nbformat->notebook>=4.4.1->widgetsnbextension~=3.6.0->ipywidgets<9,>=7.5.0->ipytree) (4.19.2)\n",
            "Requirement already satisfied: six>=1.5 in /usr/local/lib/python3.10/dist-packages (from python-dateutil>=2.1->jupyter-client->ipykernel>=4.5.1->ipywidgets<9,>=7.5.0->ipytree) (1.16.0)\n",
            "Requirement already satisfied: argon2-cffi-bindings in /usr/local/lib/python3.10/dist-packages (from argon2-cffi->notebook>=4.4.1->widgetsnbextension~=3.6.0->ipywidgets<9,>=7.5.0->ipytree) (21.2.0)\n",
            "Requirement already satisfied: attrs>=22.2.0 in /usr/local/lib/python3.10/dist-packages (from jsonschema>=2.6->nbformat->notebook>=4.4.1->widgetsnbextension~=3.6.0->ipywidgets<9,>=7.5.0->ipytree) (23.1.0)\n",
            "Requirement already satisfied: jsonschema-specifications>=2023.03.6 in /usr/local/lib/python3.10/dist-packages (from jsonschema>=2.6->nbformat->notebook>=4.4.1->widgetsnbextension~=3.6.0->ipywidgets<9,>=7.5.0->ipytree) (2023.11.2)\n",
            "Requirement already satisfied: referencing>=0.28.4 in /usr/local/lib/python3.10/dist-packages (from jsonschema>=2.6->nbformat->notebook>=4.4.1->widgetsnbextension~=3.6.0->ipywidgets<9,>=7.5.0->ipytree) (0.31.1)\n",
            "Requirement already satisfied: rpds-py>=0.7.1 in /usr/local/lib/python3.10/dist-packages (from jsonschema>=2.6->nbformat->notebook>=4.4.1->widgetsnbextension~=3.6.0->ipywidgets<9,>=7.5.0->ipytree) (0.13.2)\n",
            "Requirement already satisfied: anyio<4,>=3.1.0 in /usr/local/lib/python3.10/dist-packages (from jupyter-server>=1.8->nbclassic>=0.4.7->notebook>=4.4.1->widgetsnbextension~=3.6.0->ipywidgets<9,>=7.5.0->ipytree) (3.7.1)\n",
            "Requirement already satisfied: websocket-client in /usr/local/lib/python3.10/dist-packages (from jupyter-server>=1.8->nbclassic>=0.4.7->notebook>=4.4.1->widgetsnbextension~=3.6.0->ipywidgets<9,>=7.5.0->ipytree) (1.6.4)\n",
            "Requirement already satisfied: cffi>=1.0.1 in /usr/local/lib/python3.10/dist-packages (from argon2-cffi-bindings->argon2-cffi->notebook>=4.4.1->widgetsnbextension~=3.6.0->ipywidgets<9,>=7.5.0->ipytree) (1.16.0)\n",
            "Requirement already satisfied: soupsieve>1.2 in /usr/local/lib/python3.10/dist-packages (from beautifulsoup4->nbconvert>=5->notebook>=4.4.1->widgetsnbextension~=3.6.0->ipywidgets<9,>=7.5.0->ipytree) (2.5)\n",
            "Requirement already satisfied: webencodings in /usr/local/lib/python3.10/dist-packages (from bleach->nbconvert>=5->notebook>=4.4.1->widgetsnbextension~=3.6.0->ipywidgets<9,>=7.5.0->ipytree) (0.5.1)\n",
            "Requirement already satisfied: idna>=2.8 in /usr/local/lib/python3.10/dist-packages (from anyio<4,>=3.1.0->jupyter-server>=1.8->nbclassic>=0.4.7->notebook>=4.4.1->widgetsnbextension~=3.6.0->ipywidgets<9,>=7.5.0->ipytree) (3.6)\n",
            "Requirement already satisfied: sniffio>=1.1 in /usr/local/lib/python3.10/dist-packages (from anyio<4,>=3.1.0->jupyter-server>=1.8->nbclassic>=0.4.7->notebook>=4.4.1->widgetsnbextension~=3.6.0->ipywidgets<9,>=7.5.0->ipytree) (1.3.0)\n",
            "Requirement already satisfied: exceptiongroup in /usr/local/lib/python3.10/dist-packages (from anyio<4,>=3.1.0->jupyter-server>=1.8->nbclassic>=0.4.7->notebook>=4.4.1->widgetsnbextension~=3.6.0->ipywidgets<9,>=7.5.0->ipytree) (1.2.0)\n",
            "Requirement already satisfied: pycparser in /usr/local/lib/python3.10/dist-packages (from cffi>=1.0.1->argon2-cffi-bindings->argon2-cffi->notebook>=4.4.1->widgetsnbextension~=3.6.0->ipywidgets<9,>=7.5.0->ipytree) (2.21)\n",
            "Installing collected packages: jedi\n",
            "Successfully installed jedi-0.19.1\n",
            "Collecting scikit-allel\n",
            "  Downloading scikit_allel-1.3.7-cp310-cp310-manylinux_2_17_x86_64.manylinux2014_x86_64.whl (8.1 MB)\n",
            "\u001b[2K     \u001b[90m━━━━━━━━━━━━━━━━━━━━━━━━━━━━━━━━━━━━━━━━\u001b[0m \u001b[32m8.1/8.1 MB\u001b[0m \u001b[31m48.7 MB/s\u001b[0m eta \u001b[36m0:00:00\u001b[0m\n",
            "\u001b[?25hRequirement already satisfied: numpy in /usr/local/lib/python3.10/dist-packages (from scikit-allel) (1.23.5)\n",
            "Requirement already satisfied: dask[array] in /usr/local/lib/python3.10/dist-packages (from scikit-allel) (2023.8.1)\n",
            "Requirement already satisfied: click>=8.0 in /usr/local/lib/python3.10/dist-packages (from dask[array]->scikit-allel) (8.1.7)\n",
            "Requirement already satisfied: cloudpickle>=1.5.0 in /usr/local/lib/python3.10/dist-packages (from dask[array]->scikit-allel) (2.2.1)\n",
            "Requirement already satisfied: fsspec>=2021.09.0 in /usr/local/lib/python3.10/dist-packages (from dask[array]->scikit-allel) (2023.6.0)\n",
            "Requirement already satisfied: packaging>=20.0 in /usr/local/lib/python3.10/dist-packages (from dask[array]->scikit-allel) (23.2)\n",
            "Requirement already satisfied: partd>=1.2.0 in /usr/local/lib/python3.10/dist-packages (from dask[array]->scikit-allel) (1.4.1)\n",
            "Requirement already satisfied: pyyaml>=5.3.1 in /usr/local/lib/python3.10/dist-packages (from dask[array]->scikit-allel) (6.0.1)\n",
            "Requirement already satisfied: toolz>=0.10.0 in /usr/local/lib/python3.10/dist-packages (from dask[array]->scikit-allel) (0.12.0)\n",
            "Requirement already satisfied: importlib-metadata>=4.13.0 in /usr/local/lib/python3.10/dist-packages (from dask[array]->scikit-allel) (6.8.0)\n",
            "Requirement already satisfied: zipp>=0.5 in /usr/local/lib/python3.10/dist-packages (from importlib-metadata>=4.13.0->dask[array]->scikit-allel) (3.17.0)\n",
            "Requirement already satisfied: locket in /usr/local/lib/python3.10/dist-packages (from partd>=1.2.0->dask[array]->scikit-allel) (1.0.0)\n",
            "Installing collected packages: scikit-allel\n",
            "Successfully installed scikit-allel-1.3.7\n",
            "Collecting zarr\n",
            "  Downloading zarr-2.16.1-py3-none-any.whl (206 kB)\n",
            "\u001b[2K     \u001b[90m━━━━━━━━━━━━━━━━━━━━━━━━━━━━━━━━━━━━━━━━\u001b[0m \u001b[32m206.9/206.9 kB\u001b[0m \u001b[31m4.2 MB/s\u001b[0m eta \u001b[36m0:00:00\u001b[0m\n",
            "\u001b[?25hCollecting asciitree (from zarr)\n",
            "  Downloading asciitree-0.3.3.tar.gz (4.0 kB)\n",
            "  Preparing metadata (setup.py) ... \u001b[?25l\u001b[?25hdone\n",
            "Requirement already satisfied: numpy!=1.21.0,>=1.20 in /usr/local/lib/python3.10/dist-packages (from zarr) (1.23.5)\n",
            "Collecting fasteners (from zarr)\n",
            "  Downloading fasteners-0.19-py3-none-any.whl (18 kB)\n",
            "Collecting numcodecs>=0.10.0 (from zarr)\n",
            "  Downloading numcodecs-0.12.1-cp310-cp310-manylinux_2_17_x86_64.manylinux2014_x86_64.whl (7.7 MB)\n",
            "\u001b[2K     \u001b[90m━━━━━━━━━━━━━━━━━━━━━━━━━━━━━━━━━━━━━━━━\u001b[0m \u001b[32m7.7/7.7 MB\u001b[0m \u001b[31m63.8 MB/s\u001b[0m eta \u001b[36m0:00:00\u001b[0m\n",
            "\u001b[?25hBuilding wheels for collected packages: asciitree\n",
            "  Building wheel for asciitree (setup.py) ... \u001b[?25l\u001b[?25hdone\n",
            "  Created wheel for asciitree: filename=asciitree-0.3.3-py3-none-any.whl size=5033 sha256=a31009ff4111e3a0dcb8453ce6fd887fe0395c08c5724803e220ed668cb5313d\n",
            "  Stored in directory: /root/.cache/pip/wheels/7f/4e/be/1171b40f43b918087657ec57cf3b81fa1a2e027d8755baa184\n",
            "Successfully built asciitree\n",
            "Installing collected packages: asciitree, numcodecs, fasteners, zarr\n",
            "Successfully installed asciitree-0.3.3 fasteners-0.19 numcodecs-0.12.1 zarr-2.16.1\n",
            "Collecting pysam\n",
            "  Downloading pysam-0.22.0-cp310-cp310-manylinux_2_28_x86_64.whl (21.9 MB)\n",
            "\u001b[2K     \u001b[90m━━━━━━━━━━━━━━━━━━━━━━━━━━━━━━━━━━━━━━━━\u001b[0m \u001b[32m21.9/21.9 MB\u001b[0m \u001b[31m63.1 MB/s\u001b[0m eta \u001b[36m0:00:00\u001b[0m\n",
            "\u001b[?25hInstalling collected packages: pysam\n",
            "Successfully installed pysam-0.22.0\n",
            "Collecting pyvcf\n",
            "  Downloading PyVCF-0.6.8.tar.gz (34 kB)\n",
            "  \u001b[1;31merror\u001b[0m: \u001b[1msubprocess-exited-with-error\u001b[0m\n",
            "  \n",
            "  \u001b[31m×\u001b[0m \u001b[32mpython setup.py egg_info\u001b[0m did not run successfully.\n",
            "  \u001b[31m│\u001b[0m exit code: \u001b[1;36m1\u001b[0m\n",
            "  \u001b[31m╰─>\u001b[0m See above for output.\n",
            "  \n",
            "  \u001b[1;35mnote\u001b[0m: This error originates from a subprocess, and is likely not a problem with pip.\n",
            "  Preparing metadata (setup.py) ... \u001b[?25l\u001b[?25herror\n",
            "\u001b[1;31merror\u001b[0m: \u001b[1mmetadata-generation-failed\u001b[0m\n",
            "\n",
            "\u001b[31m×\u001b[0m Encountered error while generating package metadata.\n",
            "\u001b[31m╰─>\u001b[0m See above for output.\n",
            "\n",
            "\u001b[1;35mnote\u001b[0m: This is an issue with the package mentioned above, not pip.\n",
            "\u001b[1;36mhint\u001b[0m: See above for details.\n",
            "Requirement already satisfied: numcodecs in /usr/local/lib/python3.10/dist-packages (0.12.1)\n",
            "Requirement already satisfied: numpy>=1.7 in /usr/local/lib/python3.10/dist-packages (from numcodecs) (1.23.5)\n",
            "Requirement already satisfied: dask in /usr/local/lib/python3.10/dist-packages (2023.8.1)\n",
            "Requirement already satisfied: click>=8.0 in /usr/local/lib/python3.10/dist-packages (from dask) (8.1.7)\n",
            "Requirement already satisfied: cloudpickle>=1.5.0 in /usr/local/lib/python3.10/dist-packages (from dask) (2.2.1)\n",
            "Requirement already satisfied: fsspec>=2021.09.0 in /usr/local/lib/python3.10/dist-packages (from dask) (2023.6.0)\n",
            "Requirement already satisfied: packaging>=20.0 in /usr/local/lib/python3.10/dist-packages (from dask) (23.2)\n",
            "Requirement already satisfied: partd>=1.2.0 in /usr/local/lib/python3.10/dist-packages (from dask) (1.4.1)\n",
            "Requirement already satisfied: pyyaml>=5.3.1 in /usr/local/lib/python3.10/dist-packages (from dask) (6.0.1)\n",
            "Requirement already satisfied: toolz>=0.10.0 in /usr/local/lib/python3.10/dist-packages (from dask) (0.12.0)\n",
            "Requirement already satisfied: importlib-metadata>=4.13.0 in /usr/local/lib/python3.10/dist-packages (from dask) (6.8.0)\n",
            "Requirement already satisfied: zipp>=0.5 in /usr/local/lib/python3.10/dist-packages (from importlib-metadata>=4.13.0->dask) (3.17.0)\n",
            "Requirement already satisfied: locket in /usr/local/lib/python3.10/dist-packages (from partd>=1.2.0->dask) (1.0.0)\n",
            "--2023-12-07 21:52:50--  https://mafft.cbrc.jp/alignment/software/mafft_7.471-1_amd64.deb\n",
            "Resolving mafft.cbrc.jp (mafft.cbrc.jp)... 133.1.49.95\n",
            "Connecting to mafft.cbrc.jp (mafft.cbrc.jp)|133.1.49.95|:443... connected.\n",
            "HTTP request sent, awaiting response... 200 OK\n",
            "Length: 3635234 (3.5M)\n",
            "Saving to: ‘mafft_7.471-1_amd64.deb’\n",
            "\n",
            "mafft_7.471-1_amd64 100%[===================>]   3.47M  2.58MB/s    in 1.3s    \n",
            "\n",
            "2023-12-07 21:52:52 (2.58 MB/s) - ‘mafft_7.471-1_amd64.deb’ saved [3635234/3635234]\n",
            "\n",
            "Selecting previously unselected package mafft.\n",
            "(Reading database ... 120899 files and directories currently installed.)\n",
            "Preparing to unpack mafft_7.471-1_amd64.deb ...\n",
            "Unpacking mafft (7.471-1) ...\n",
            "Setting up mafft (7.471-1) ...\n",
            "Processing triggers for man-db (2.10.2-1) ...\n"
          ]
        }
      ]
    },
    {
      "cell_type": "markdown",
      "source": [
        "##Mount Google Drive"
      ],
      "metadata": {
        "id": "Z8VBAfsyQ0Z8"
      }
    },
    {
      "cell_type": "code",
      "source": [
        "from google.colab import drive\n",
        "from pathlib import Path\n",
        "\n",
        "drive.mount(\"/content/drive\")\n",
        "DATA = Path(\"/content/drive/My Drive/Fall 2023/Introduction to Genomic Information Science and Technology/ECBME4060 Final Project/Variant FASTQ Files/DATA\")\n"
      ],
      "metadata": {
        "colab": {
          "base_uri": "https://localhost:8080/"
        },
        "id": "NdGarI_VQ39I",
        "outputId": "8d4ea939-4da7-4cb3-b189-b2e425df500f"
      },
      "execution_count": null,
      "outputs": [
        {
          "output_type": "stream",
          "name": "stdout",
          "text": [
            "Mounted at /content/drive\n"
          ]
        }
      ]
    },
    {
      "cell_type": "markdown",
      "source": [
        "##Sequence Preprocessing and MAFFT"
      ],
      "metadata": {
        "id": "6_sX-HYtRAVr"
      }
    },
    {
      "cell_type": "code",
      "source": [
        "from Bio.Align.Applications import MafftCommandline\n",
        "from Bio import SeqIO, AlignIO\n",
        "import os, subprocess\n",
        "import gzip\n",
        "import shutil\n",
        "\n",
        "!apt-get install -y seqtk\n",
        "!sudo apt-get install -y clustalw\n",
        "!sudo apt-get install -y clustalo"
      ],
      "metadata": {
        "colab": {
          "base_uri": "https://localhost:8080/"
        },
        "id": "Pun9E5ZbRDxc",
        "outputId": "bf02d71f-a6a0-4f7f-a991-cf1566645b16"
      },
      "execution_count": null,
      "outputs": [
        {
          "output_type": "stream",
          "name": "stdout",
          "text": [
            "Reading package lists... Done\n",
            "Building dependency tree... Done\n",
            "Reading state information... Done\n",
            "The following NEW packages will be installed:\n",
            "  seqtk\n",
            "0 upgraded, 1 newly installed, 0 to remove and 16 not upgraded.\n",
            "Need to get 30.2 kB of archives.\n",
            "After this operation, 85.0 kB of additional disk space will be used.\n",
            "Get:1 http://archive.ubuntu.com/ubuntu jammy/universe amd64 seqtk amd64 1.3-2 [30.2 kB]\n",
            "Fetched 30.2 kB in 0s (282 kB/s)\n",
            "Selecting previously unselected package seqtk.\n",
            "(Reading database ... 120978 files and directories currently installed.)\n",
            "Preparing to unpack .../archives/seqtk_1.3-2_amd64.deb ...\n",
            "Unpacking seqtk (1.3-2) ...\n",
            "Setting up seqtk (1.3-2) ...\n",
            "Processing triggers for man-db (2.10.2-1) ...\n",
            "Reading package lists... Done\n",
            "Building dependency tree... Done\n",
            "Reading state information... Done\n",
            "Suggested packages:\n",
            "  clustalx seaview\n",
            "The following NEW packages will be installed:\n",
            "  clustalw\n",
            "0 upgraded, 1 newly installed, 0 to remove and 16 not upgraded.\n",
            "Need to get 275 kB of archives.\n",
            "After this operation, 818 kB of additional disk space will be used.\n",
            "Get:1 http://archive.ubuntu.com/ubuntu jammy/universe amd64 clustalw amd64 2.1+lgpl-7 [275 kB]\n",
            "Fetched 275 kB in 0s (1,340 kB/s)\n",
            "debconf: unable to initialize frontend: Dialog\n",
            "debconf: (No usable dialog-like program is installed, so the dialog based frontend cannot be used. at /usr/share/perl5/Debconf/FrontEnd/Dialog.pm line 78, <> line 1.)\n",
            "debconf: falling back to frontend: Readline\n",
            "debconf: unable to initialize frontend: Readline\n",
            "debconf: (This frontend requires a controlling tty.)\n",
            "debconf: falling back to frontend: Teletype\n",
            "dpkg-preconfigure: unable to re-open stdin: \n",
            "Selecting previously unselected package clustalw.\n",
            "(Reading database ... 120989 files and directories currently installed.)\n",
            "Preparing to unpack .../clustalw_2.1+lgpl-7_amd64.deb ...\n",
            "Unpacking clustalw (2.1+lgpl-7) ...\n",
            "Setting up clustalw (2.1+lgpl-7) ...\n",
            "Processing triggers for man-db (2.10.2-1) ...\n",
            "Reading package lists... Done\n",
            "Building dependency tree... Done\n",
            "Reading state information... Done\n",
            "The following additional packages will be installed:\n",
            "  libargtable2-0\n",
            "The following NEW packages will be installed:\n",
            "  clustalo libargtable2-0\n",
            "0 upgraded, 2 newly installed, 0 to remove and 16 not upgraded.\n",
            "Need to get 273 kB of archives.\n",
            "After this operation, 694 kB of additional disk space will be used.\n",
            "Get:1 http://archive.ubuntu.com/ubuntu jammy/universe amd64 libargtable2-0 amd64 13-1.1 [14.1 kB]\n",
            "Get:2 http://archive.ubuntu.com/ubuntu jammy/universe amd64 clustalo amd64 1.2.4-7 [259 kB]\n",
            "Fetched 273 kB in 0s (1,328 kB/s)\n",
            "debconf: unable to initialize frontend: Dialog\n",
            "debconf: (No usable dialog-like program is installed, so the dialog based frontend cannot be used. at /usr/share/perl5/Debconf/FrontEnd/Dialog.pm line 78, <> line 2.)\n",
            "debconf: falling back to frontend: Readline\n",
            "debconf: unable to initialize frontend: Readline\n",
            "debconf: (This frontend requires a controlling tty.)\n",
            "debconf: falling back to frontend: Teletype\n",
            "dpkg-preconfigure: unable to re-open stdin: \n",
            "Selecting previously unselected package libargtable2-0.\n",
            "(Reading database ... 121005 files and directories currently installed.)\n",
            "Preparing to unpack .../libargtable2-0_13-1.1_amd64.deb ...\n",
            "Unpacking libargtable2-0 (13-1.1) ...\n",
            "Selecting previously unselected package clustalo.\n",
            "Preparing to unpack .../clustalo_1.2.4-7_amd64.deb ...\n",
            "Unpacking clustalo (1.2.4-7) ...\n",
            "Setting up libargtable2-0 (13-1.1) ...\n",
            "Setting up clustalo (1.2.4-7) ...\n",
            "Processing triggers for libc-bin (2.35-0ubuntu3.4) ...\n",
            "/sbin/ldconfig.real: /usr/local/lib/libtbbbind_2_0.so.3 is not a symbolic link\n",
            "\n",
            "/sbin/ldconfig.real: /usr/local/lib/libtbbbind.so.3 is not a symbolic link\n",
            "\n",
            "/sbin/ldconfig.real: /usr/local/lib/libtbbmalloc.so.2 is not a symbolic link\n",
            "\n",
            "/sbin/ldconfig.real: /usr/local/lib/libtbb.so.12 is not a symbolic link\n",
            "\n",
            "/sbin/ldconfig.real: /usr/local/lib/libtbbbind_2_5.so.3 is not a symbolic link\n",
            "\n",
            "/sbin/ldconfig.real: /usr/local/lib/libtbbmalloc_proxy.so.2 is not a symbolic link\n",
            "\n",
            "Processing triggers for man-db (2.10.2-1) ...\n"
          ]
        }
      ]
    },
    {
      "cell_type": "code",
      "source": [
        "def run_command(command):\n",
        "    process = subprocess.Popen(command, shell=True, stdout=subprocess.PIPE, stderr=subprocess.PIPE)\n",
        "    stdout, stderr = process.communicate()\n",
        "    if process.returncode != 0:\n",
        "        raise Exception(f\"Error with command '{command}': {stderr.decode('utf-8')}\")\n",
        "    return stdout.decode('utf-8')\n",
        "\n",
        "def filter_sequences(input_file, output_file, max_n_percentage=0):\n",
        "    sequences_kept = 0\n",
        "    sequences_filtered = 0\n",
        "\n",
        "    with open(input_file, \"r\") as infile, open(output_file, \"w\") as outfile:\n",
        "        for record in SeqIO.parse(infile, \"fasta\"):\n",
        "            sequence_length = len(record.seq)\n",
        "            n_count = record.seq.upper().count('N')\n",
        "            n_percentage = (n_count / sequence_length) * 100\n",
        "\n",
        "            if n_percentage <= max_n_percentage:\n",
        "                SeqIO.write(record, outfile, \"fasta\")\n",
        "                sequences_kept += 1\n",
        "            else:\n",
        "                sequences_filtered += 1\n",
        "\n",
        "    return sequences_kept, sequences_filtered\n",
        "\n",
        "def run_mafft_alignment(fasta_path, aligned_path):\n",
        "    try:\n",
        "        mafft_cline = MafftCommandline(input=fasta_path,thread = 1)\n",
        "        stdout, stderr = mafft_cline()\n",
        "        with open(aligned_path, \"w\") as aligned_file:\n",
        "            aligned_file.write(stdout)\n",
        "        print(f\"Aligned {os.path.basename(fasta_path)}\")\n",
        "    except Exception as e:\n",
        "        print(f\"An error occurred while aligning {os.path.basename(fasta_path)}: {e}\")\n",
        "\n",
        "def select_random_sequences(input_file, output_file, num_sequences):\n",
        "    all_sequences = list(SeqIO.parse(input_file, \"fasta\"))\n",
        "    selected_sequences = random.sample(all_sequences, min(num_sequences, len(all_sequences)))\n",
        "\n",
        "    with open(output_file, \"w\") as output_handle:\n",
        "        SeqIO.write(selected_sequences, output_handle, \"fasta\")\n"
      ],
      "metadata": {
        "id": "VWRKchGKRFeC"
      },
      "execution_count": null,
      "outputs": []
    },
    {
      "cell_type": "markdown",
      "source": [
        "Convert FASTQ files to FASTA files"
      ],
      "metadata": {
        "id": "jTl1cYPTRN8p"
      }
    },
    {
      "cell_type": "code",
      "source": [
        "for filename in os.listdir(DATA):\n",
        "    if filename.endswith('.fastq'):\n",
        "        fastq_path = os.path.join(DATA, filename)\n",
        "        fasta_path = fastq_path.replace('.fastq', '.fasta')\n",
        "\n",
        "        # Convert FASTQ to FASTA\n",
        "        try:\n",
        "            run_command(f\"seqtk seq -a \\\"{fastq_path}\\\" > \\\"{fasta_path}\\\"\")\n",
        "            print(f\"Converted {filename} to FASTA format.\")\n",
        "\n",
        "        except Exception as e:\n",
        "            print(f\"An error occurred: {e}\")"
      ],
      "metadata": {
        "colab": {
          "base_uri": "https://localhost:8080/"
        },
        "id": "ZZekw_v1RRau",
        "outputId": "b8215961-be06-48a6-953b-15bb9d67722f"
      },
      "execution_count": null,
      "outputs": [
        {
          "output_type": "stream",
          "name": "stdout",
          "text": [
            "Converted 6_21_2_SRR18583056.fastq to FASTA format.\n",
            "Converted 4_21_1_SRR16241829.fastq to FASTA format.\n",
            "Converted 11_21_1_SRR18583067.fastq to FASTA format.\n",
            "Converted 7_21_1_SRR18583053.fastq to FASTA format.\n",
            "Converted 12_21_1_SRR18583064.fastq to FASTA format.\n",
            "Converted 8_21_2_SRR18583059.fastq to FASTA format.\n",
            "Converted 6_21_1_SRR18583055.fastq to FASTA format.\n",
            "Converted 8_21_1_SRR18583054.fastq to FASTA format.\n",
            "Converted 11_21_2_SRR18583069.fastq to FASTA format.\n",
            "Converted 5_21_1_SRR15282875.fastq to FASTA format.\n",
            "Converted 12_21_2_SRR18583065.fastq to FASTA format.\n",
            "Converted 9_21_1_SRR18583058.fastq to FASTA format.\n",
            "Converted 4_21_2_SRR16241828.fastq to FASTA format.\n",
            "Converted 3_21_1_SRR18583085.fastq to FASTA format.\n",
            "Converted 7_21_2_SRR18583157.fastq to FASTA format.\n",
            "Converted 10_21_2_SRR18583259.fastq to FASTA format.\n",
            "Converted 1_21_2_SRR14010094.fastq to FASTA format.\n",
            "Converted 9_21_2_SRR18583088.fastq to FASTA format.\n",
            "Converted 5_21_2_SRR15282876.fastq to FASTA format.\n",
            "Converted 3_21_2_SRR14010098.fastq to FASTA format.\n",
            "Converted 2_21_1_SRR14010120.fastq to FASTA format.\n",
            "Converted 2_21_2_SRR14010121.fastq to FASTA format.\n",
            "Converted 1_21_1_SRR14010093.fastq to FASTA format.\n",
            "Converted 10_21_1_SRR18583258.fastq to FASTA format.\n",
            "Converted 3_22_1_SRR18583052.fastq to FASTA format.\n",
            "Converted 3_22_2_SRR18583060.fastq to FASTA format.\n",
            "Converted 2_22_2_SRR18583062.fastq to FASTA format.\n",
            "Converted 2_22_1_SRR18583061.fastq to FASTA format.\n",
            "Converted 1_22_2_SRR18583048.fastq to FASTA format.\n",
            "Converted 1_22_1_SRR18583047.fastq to FASTA format.\n"
          ]
        }
      ]
    },
    {
      "cell_type": "markdown",
      "source": [
        "Filter out sequences that have missing nucleotides"
      ],
      "metadata": {
        "id": "LAEM1_jTRpGZ"
      }
    },
    {
      "cell_type": "code",
      "source": [
        "for filename in os.listdir(DATA):\n",
        "    if filename.endswith('.fasta'):\n",
        "        input_fasta = os.path.join(DATA, filename)\n",
        "        output_fasta = os.path.join(DATA, filename.replace('.fasta', '_filtered.fasta'))\n",
        "        kept, filtered = filter_sequences(input_fasta, output_fasta)\n",
        "        print(f\"File: {filename}, Sequences kept: {kept}, Sequences filtered out: {filtered}\")"
      ],
      "metadata": {
        "colab": {
          "base_uri": "https://localhost:8080/"
        },
        "id": "GOcmuqtPRoKe",
        "outputId": "d2467353-72a0-4647-bc33-16b3839b56ae"
      },
      "execution_count": null,
      "outputs": [
        {
          "output_type": "stream",
          "name": "stdout",
          "text": [
            "File: 6_21_2_SRR18583056.fasta, Sequences kept: 215221, Sequences filtered out: 3\n",
            "File: 4_21_1_SRR16241829.fasta, Sequences kept: 255291, Sequences filtered out: 5\n",
            "File: 11_21_1_SRR18583067.fasta, Sequences kept: 235138, Sequences filtered out: 14\n",
            "File: 7_21_1_SRR18583053.fasta, Sequences kept: 277816, Sequences filtered out: 8\n",
            "File: 12_21_1_SRR18583064.fasta, Sequences kept: 288934, Sequences filtered out: 274\n",
            "File: 8_21_2_SRR18583059.fasta, Sequences kept: 270071, Sequences filtered out: 7725\n",
            "File: 6_21_1_SRR18583055.fasta, Sequences kept: 254782, Sequences filtered out: 12\n",
            "File: 8_21_1_SRR18583054.fasta, Sequences kept: 316817, Sequences filtered out: 13\n",
            "File: 11_21_2_SRR18583069.fasta, Sequences kept: 339462, Sequences filtered out: 280\n",
            "File: 5_21_1_SRR15282875.fasta, Sequences kept: 325583, Sequences filtered out: 17\n",
            "File: 12_21_2_SRR18583065.fasta, Sequences kept: 304183, Sequences filtered out: 1809\n",
            "File: 9_21_1_SRR18583058.fasta, Sequences kept: 312069, Sequences filtered out: 7\n",
            "File: 4_21_2_SRR16241828.fasta, Sequences kept: 350808, Sequences filtered out: 10\n",
            "File: 3_21_1_SRR18583085.fasta, Sequences kept: 289853, Sequences filtered out: 673\n",
            "File: 7_21_2_SRR18583157.fasta, Sequences kept: 338369, Sequences filtered out: 9\n",
            "File: 10_21_2_SRR18583259.fasta, Sequences kept: 363708, Sequences filtered out: 46\n",
            "File: 1_21_2_SRR14010094.fasta, Sequences kept: 356699, Sequences filtered out: 15821\n",
            "File: 9_21_2_SRR18583088.fasta, Sequences kept: 346015, Sequences filtered out: 3\n",
            "File: 5_21_2_SRR15282876.fasta, Sequences kept: 429327, Sequences filtered out: 15\n",
            "File: 3_21_2_SRR14010098.fasta, Sequences kept: 424342, Sequences filtered out: 105600\n",
            "File: 2_21_1_SRR14010120.fasta, Sequences kept: 464342, Sequences filtered out: 17078\n",
            "File: 2_21_2_SRR14010121.fasta, Sequences kept: 711583, Sequences filtered out: 59497\n",
            "File: 1_21_1_SRR14010093.fasta, Sequences kept: 644117, Sequences filtered out: 2449\n",
            "File: 10_21_1_SRR18583258.fasta, Sequences kept: 403767, Sequences filtered out: 1097\n",
            "File: 3_22_1_SRR18583052.fasta, Sequences kept: 344591, Sequences filtered out: 737\n",
            "File: 3_22_2_SRR18583060.fasta, Sequences kept: 357385, Sequences filtered out: 31\n",
            "File: 2_22_2_SRR18583062.fasta, Sequences kept: 370957, Sequences filtered out: 329\n",
            "File: 2_22_1_SRR18583061.fasta, Sequences kept: 368134, Sequences filtered out: 282\n",
            "File: 1_22_2_SRR18583048.fasta, Sequences kept: 280702, Sequences filtered out: 370\n",
            "File: 1_22_1_SRR18583047.fasta, Sequences kept: 263857, Sequences filtered out: 277\n"
          ]
        }
      ]
    },
    {
      "cell_type": "markdown",
      "source": [
        "Select 2000 random sequences from each file to allow for computation to stay within limits of system"
      ],
      "metadata": {
        "id": "tIOtIFktRzlA"
      }
    },
    {
      "cell_type": "code",
      "source": [
        "from Bio import SeqIO\n",
        "import random\n",
        "\n",
        "num_to_select = 2000\n",
        "\n",
        "for filename in os.listdir(DATA):\n",
        "    if filename.endswith('_filtered.fasta'):\n",
        "        input_path = os.path.join(DATA, filename)\n",
        "        output_path = os.path.join(DATA, f\"subset_{filename}\")\n",
        "        select_random_sequences(input_path, output_path, num_to_select)\n",
        "        print(f\"Processed subset for {filename}\")"
      ],
      "metadata": {
        "colab": {
          "base_uri": "https://localhost:8080/"
        },
        "id": "reQ45U9KR-81",
        "outputId": "5b844693-f5c9-46fb-9f33-1553ff334953"
      },
      "execution_count": null,
      "outputs": [
        {
          "output_type": "stream",
          "name": "stdout",
          "text": [
            "Processed subset for 6_21_2_SRR18583056_filtered.fasta\n",
            "Processed subset for 4_21_1_SRR16241829_filtered.fasta\n",
            "Processed subset for 11_21_1_SRR18583067_filtered.fasta\n",
            "Processed subset for 7_21_1_SRR18583053_filtered.fasta\n",
            "Processed subset for 12_21_1_SRR18583064_filtered.fasta\n",
            "Processed subset for 8_21_2_SRR18583059_filtered.fasta\n",
            "Processed subset for 6_21_1_SRR18583055_filtered.fasta\n",
            "Processed subset for 8_21_1_SRR18583054_filtered.fasta\n",
            "Processed subset for 11_21_2_SRR18583069_filtered.fasta\n",
            "Processed subset for 5_21_1_SRR15282875_filtered.fasta\n",
            "Processed subset for 12_21_2_SRR18583065_filtered.fasta\n",
            "Processed subset for 9_21_1_SRR18583058_filtered.fasta\n",
            "Processed subset for 4_21_2_SRR16241828_filtered.fasta\n",
            "Processed subset for 3_21_1_SRR18583085_filtered.fasta\n",
            "Processed subset for 7_21_2_SRR18583157_filtered.fasta\n",
            "Processed subset for 10_21_2_SRR18583259_filtered.fasta\n",
            "Processed subset for 1_21_2_SRR14010094_filtered.fasta\n",
            "Processed subset for 9_21_2_SRR18583088_filtered.fasta\n",
            "Processed subset for 5_21_2_SRR15282876_filtered.fasta\n",
            "Processed subset for 3_21_2_SRR14010098_filtered.fasta\n",
            "Processed subset for 2_21_1_SRR14010120_filtered.fasta\n",
            "Processed subset for 2_21_2_SRR14010121_filtered.fasta\n",
            "Processed subset for 1_21_1_SRR14010093_filtered.fasta\n",
            "Processed subset for 10_21_1_SRR18583258_filtered.fasta\n",
            "Processed subset for 3_22_1_SRR18583052_filtered.fasta\n",
            "Processed subset for 3_22_2_SRR18583060_filtered.fasta\n",
            "Processed subset for 2_22_2_SRR18583062_filtered.fasta\n",
            "Processed subset for 2_22_1_SRR18583061_filtered.fasta\n",
            "Processed subset for 1_22_2_SRR18583048_filtered.fasta\n",
            "Processed subset for 1_22_1_SRR18583047_filtered.fasta\n"
          ]
        }
      ]
    },
    {
      "cell_type": "markdown",
      "source": [
        "## Mutation calling"
      ],
      "metadata": {
        "id": "f9F7nLkJSNxj"
      }
    },
    {
      "cell_type": "markdown",
      "source": [
        "First, we need to combine the sequences with the reference sequence and align the sequences to the reference sequence."
      ],
      "metadata": {
        "id": "qXAlHo9nU9PA"
      }
    },
    {
      "cell_type": "code",
      "source": [
        "def align_with_mafft(reference_file, target_file, aligned_file):\n",
        "\n",
        "    combined_file = 'combined.fasta'\n",
        "    with open(combined_file, 'w') as combined:\n",
        "        with open(reference_file, 'r') as ref_fasta, open(target_file, 'r') as target_fasta:\n",
        "            combined.write(ref_fasta.read() + '\\n' + target_fasta.read())\n",
        "\n",
        "\n",
        "    mafft_cline = MafftCommandline(input=combined_file)\n",
        "    stdout, stderr = subprocess.Popen(str(mafft_cline),\n",
        "                                      stdout=subprocess.PIPE,\n",
        "                                      stderr=subprocess.PIPE,\n",
        "                                      shell=True).communicate()\n",
        "\n",
        "    with open(aligned_file, 'w') as aligned:\n",
        "        aligned.write(stdout.decode())\n",
        "\n",
        "    os.remove(combined_file)\n",
        "\n",
        "DATA_aligned = DATA\n",
        "\n",
        "reference_path = DATA_aligned / \"MN908947.3_spike_protein.fasta\"\n",
        "\n",
        "\n",
        "for filename in os.listdir(DATA_aligned):\n",
        "    if filename.endswith('.fasta') and filename.startswith('subset_'):\n",
        "        sequence_path = DATA_aligned / filename\n",
        "        aligned_sequence_path = DATA_aligned / f\"ref_aligned_{filename}\"\n",
        "\n",
        "        # Align the sequences\n",
        "        align_with_mafft(reference_path, sequence_path, aligned_sequence_path)\n",
        "\n",
        "        # Generate mutation report on aligned sequences\n",
        "        report_path = DATA / f\"mutations_{filename}.txt\"\n",
        "        #call_mutations(reference_path, aligned_sequence_path, report_path)\n",
        "        print(f\"Aligned to reference {filename}\")"
      ],
      "metadata": {
        "colab": {
          "base_uri": "https://localhost:8080/"
        },
        "id": "ZalKmbZhU8g3",
        "outputId": "a95e4840-07ec-406d-ba29-63ab3a83a2d1"
      },
      "execution_count": null,
      "outputs": [
        {
          "output_type": "stream",
          "name": "stdout",
          "text": [
            "Aligned to reference subset_6_21_2_SRR18583056_filtered.fasta\n",
            "Aligned to reference subset_4_21_1_SRR16241829_filtered.fasta\n",
            "Aligned to reference subset_11_21_1_SRR18583067_filtered.fasta\n",
            "Aligned to reference subset_7_21_1_SRR18583053_filtered.fasta\n",
            "Aligned to reference subset_12_21_1_SRR18583064_filtered.fasta\n",
            "Aligned to reference subset_8_21_2_SRR18583059_filtered.fasta\n",
            "Aligned to reference subset_6_21_1_SRR18583055_filtered.fasta\n",
            "Aligned to reference subset_8_21_1_SRR18583054_filtered.fasta\n",
            "Aligned to reference subset_11_21_2_SRR18583069_filtered.fasta\n",
            "Aligned to reference subset_5_21_1_SRR15282875_filtered.fasta\n",
            "Aligned to reference subset_12_21_2_SRR18583065_filtered.fasta\n",
            "Aligned to reference subset_9_21_1_SRR18583058_filtered.fasta\n",
            "Aligned to reference subset_4_21_2_SRR16241828_filtered.fasta\n",
            "Aligned to reference subset_3_21_1_SRR18583085_filtered.fasta\n",
            "Aligned to reference subset_7_21_2_SRR18583157_filtered.fasta\n",
            "Aligned to reference subset_10_21_2_SRR18583259_filtered.fasta\n",
            "Aligned to reference subset_1_21_2_SRR14010094_filtered.fasta\n",
            "Aligned to reference subset_9_21_2_SRR18583088_filtered.fasta\n",
            "Aligned to reference subset_5_21_2_SRR15282876_filtered.fasta\n",
            "Aligned to reference subset_3_21_2_SRR14010098_filtered.fasta\n",
            "Aligned to reference subset_2_21_1_SRR14010120_filtered.fasta\n",
            "Aligned to reference subset_2_21_2_SRR14010121_filtered.fasta\n",
            "Aligned to reference subset_1_21_1_SRR14010093_filtered.fasta\n",
            "Aligned to reference subset_10_21_1_SRR18583258_filtered.fasta\n",
            "Aligned to reference subset_3_22_1_SRR18583052_filtered.fasta\n",
            "Aligned to reference subset_3_22_2_SRR18583060_filtered.fasta\n",
            "Aligned to reference subset_2_22_2_SRR18583062_filtered.fasta\n",
            "Aligned to reference subset_2_22_1_SRR18583061_filtered.fasta\n",
            "Aligned to reference subset_1_22_2_SRR18583048_filtered.fasta\n",
            "Aligned to reference subset_1_22_1_SRR18583047_filtered.fasta\n"
          ]
        }
      ]
    },
    {
      "cell_type": "markdown",
      "source": [
        "convert each codon to its corresponding amino acid, accounting for the shift in reading window identified by NCBI."
      ],
      "metadata": {
        "id": "bPf1OCwtSXO5"
      }
    },
    {
      "cell_type": "code",
      "source": [
        "import os\n",
        "from Bio import SeqIO\n",
        "from Bio.Data import CodonTable\n",
        "\n",
        "def translate_codons(seq, table):\n",
        "    amino_acids = []\n",
        "    for i in range(0, len(seq), 3):\n",
        "        codon = seq[i:i+3]\n",
        "        if codon == '---':\n",
        "            amino_acids.append('-')\n",
        "        else:\n",
        "            amino_acids.append(table.forward_table.get(codon, 'X'))\n",
        "    return amino_acids\n",
        "\n",
        "def find_mutations(ref_aa_seq, target_aa_seq):\n",
        "    mutations = []\n",
        "    for pos, (ref_aa, target_aa) in enumerate(zip(ref_aa_seq, target_aa_seq)):\n",
        "        if ref_aa != target_aa:\n",
        "            mutations.append(f\"{ref_aa}{pos+341}{target_aa}\") #the + 341 accounts for the positioning of the covid spike protein in the amino acid sequence\n",
        "    return mutations\n",
        "\n",
        "# Genetic code table\n",
        "genetic_code_table = CodonTable.standard_dna_table\n",
        "for filename in os.listdir(DATA):\n",
        "    if filename.startswith('ref_'):\n",
        "        file_path = os.path.join(DATA, filename)\n",
        "        sequences = list(SeqIO.parse(file_path, \"fasta\"))\n",
        "\n",
        "        # Translate the reference sequence into amino acids\n",
        "        ref_seq = sequences[0]\n",
        "        ref_aa_seq = translate_codons(str(ref_seq.seq).upper(), genetic_code_table)\n",
        "        output_file_path = os.path.join(DATA, f\"mutations_{filename}.txt\")\n",
        "\n",
        "        with open(output_file_path, 'w') as output_file:\n",
        "            for record in sequences[1:]:\n",
        "                target_aa_seq = translate_codons(str(record.seq).upper(), genetic_code_table)\n",
        "                mutations = find_mutations(ref_aa_seq, target_aa_seq)\n",
        "\n",
        "                output_file.write(f\"{record.id} mutations: {', '.join(mutations)}\\n\")\n",
        "\n",
        "        print(f\"Mutation report written to {output_file_path}\")"
      ],
      "metadata": {
        "id": "UnGwP8OSSg7v",
        "colab": {
          "base_uri": "https://localhost:8080/"
        },
        "outputId": "c76ff320-7462-4fff-b28f-42e59770a4e5"
      },
      "execution_count": null,
      "outputs": [
        {
          "output_type": "stream",
          "name": "stdout",
          "text": [
            "Mutation report written to /content/drive/My Drive/Fall 2023/Introduction to Genomic Information Science and Technology/ECBME4060 Final Project/Variant FASTQ Files/DATA/mutations_ref_aligned_subset_6_21_2_SRR18583056_filtered.fasta.txt\n",
            "Mutation report written to /content/drive/My Drive/Fall 2023/Introduction to Genomic Information Science and Technology/ECBME4060 Final Project/Variant FASTQ Files/DATA/mutations_ref_aligned_subset_4_21_1_SRR16241829_filtered.fasta.txt\n",
            "Mutation report written to /content/drive/My Drive/Fall 2023/Introduction to Genomic Information Science and Technology/ECBME4060 Final Project/Variant FASTQ Files/DATA/mutations_ref_aligned_subset_11_21_1_SRR18583067_filtered.fasta.txt\n",
            "Mutation report written to /content/drive/My Drive/Fall 2023/Introduction to Genomic Information Science and Technology/ECBME4060 Final Project/Variant FASTQ Files/DATA/mutations_ref_aligned_subset_7_21_1_SRR18583053_filtered.fasta.txt\n",
            "Mutation report written to /content/drive/My Drive/Fall 2023/Introduction to Genomic Information Science and Technology/ECBME4060 Final Project/Variant FASTQ Files/DATA/mutations_ref_aligned_subset_12_21_1_SRR18583064_filtered.fasta.txt\n",
            "Mutation report written to /content/drive/My Drive/Fall 2023/Introduction to Genomic Information Science and Technology/ECBME4060 Final Project/Variant FASTQ Files/DATA/mutations_ref_aligned_subset_8_21_2_SRR18583059_filtered.fasta.txt\n",
            "Mutation report written to /content/drive/My Drive/Fall 2023/Introduction to Genomic Information Science and Technology/ECBME4060 Final Project/Variant FASTQ Files/DATA/mutations_ref_aligned_subset_6_21_1_SRR18583055_filtered.fasta.txt\n",
            "Mutation report written to /content/drive/My Drive/Fall 2023/Introduction to Genomic Information Science and Technology/ECBME4060 Final Project/Variant FASTQ Files/DATA/mutations_ref_aligned_subset_8_21_1_SRR18583054_filtered.fasta.txt\n",
            "Mutation report written to /content/drive/My Drive/Fall 2023/Introduction to Genomic Information Science and Technology/ECBME4060 Final Project/Variant FASTQ Files/DATA/mutations_ref_aligned_subset_11_21_2_SRR18583069_filtered.fasta.txt\n",
            "Mutation report written to /content/drive/My Drive/Fall 2023/Introduction to Genomic Information Science and Technology/ECBME4060 Final Project/Variant FASTQ Files/DATA/mutations_ref_aligned_subset_5_21_1_SRR15282875_filtered.fasta.txt\n",
            "Mutation report written to /content/drive/My Drive/Fall 2023/Introduction to Genomic Information Science and Technology/ECBME4060 Final Project/Variant FASTQ Files/DATA/mutations_ref_aligned_subset_12_21_2_SRR18583065_filtered.fasta.txt\n",
            "Mutation report written to /content/drive/My Drive/Fall 2023/Introduction to Genomic Information Science and Technology/ECBME4060 Final Project/Variant FASTQ Files/DATA/mutations_ref_aligned_subset_9_21_1_SRR18583058_filtered.fasta.txt\n",
            "Mutation report written to /content/drive/My Drive/Fall 2023/Introduction to Genomic Information Science and Technology/ECBME4060 Final Project/Variant FASTQ Files/DATA/mutations_ref_aligned_subset_4_21_2_SRR16241828_filtered.fasta.txt\n",
            "Mutation report written to /content/drive/My Drive/Fall 2023/Introduction to Genomic Information Science and Technology/ECBME4060 Final Project/Variant FASTQ Files/DATA/mutations_ref_aligned_subset_3_21_1_SRR18583085_filtered.fasta.txt\n",
            "Mutation report written to /content/drive/My Drive/Fall 2023/Introduction to Genomic Information Science and Technology/ECBME4060 Final Project/Variant FASTQ Files/DATA/mutations_ref_aligned_subset_7_21_2_SRR18583157_filtered.fasta.txt\n",
            "Mutation report written to /content/drive/My Drive/Fall 2023/Introduction to Genomic Information Science and Technology/ECBME4060 Final Project/Variant FASTQ Files/DATA/mutations_ref_aligned_subset_10_21_2_SRR18583259_filtered.fasta.txt\n",
            "Mutation report written to /content/drive/My Drive/Fall 2023/Introduction to Genomic Information Science and Technology/ECBME4060 Final Project/Variant FASTQ Files/DATA/mutations_ref_aligned_subset_1_21_2_SRR14010094_filtered.fasta.txt\n",
            "Mutation report written to /content/drive/My Drive/Fall 2023/Introduction to Genomic Information Science and Technology/ECBME4060 Final Project/Variant FASTQ Files/DATA/mutations_ref_aligned_subset_9_21_2_SRR18583088_filtered.fasta.txt\n",
            "Mutation report written to /content/drive/My Drive/Fall 2023/Introduction to Genomic Information Science and Technology/ECBME4060 Final Project/Variant FASTQ Files/DATA/mutations_ref_aligned_subset_5_21_2_SRR15282876_filtered.fasta.txt\n",
            "Mutation report written to /content/drive/My Drive/Fall 2023/Introduction to Genomic Information Science and Technology/ECBME4060 Final Project/Variant FASTQ Files/DATA/mutations_ref_aligned_subset_3_21_2_SRR14010098_filtered.fasta.txt\n",
            "Mutation report written to /content/drive/My Drive/Fall 2023/Introduction to Genomic Information Science and Technology/ECBME4060 Final Project/Variant FASTQ Files/DATA/mutations_ref_aligned_subset_2_21_1_SRR14010120_filtered.fasta.txt\n",
            "Mutation report written to /content/drive/My Drive/Fall 2023/Introduction to Genomic Information Science and Technology/ECBME4060 Final Project/Variant FASTQ Files/DATA/mutations_ref_aligned_subset_2_21_2_SRR14010121_filtered.fasta.txt\n",
            "Mutation report written to /content/drive/My Drive/Fall 2023/Introduction to Genomic Information Science and Technology/ECBME4060 Final Project/Variant FASTQ Files/DATA/mutations_ref_aligned_subset_1_21_1_SRR14010093_filtered.fasta.txt\n",
            "Mutation report written to /content/drive/My Drive/Fall 2023/Introduction to Genomic Information Science and Technology/ECBME4060 Final Project/Variant FASTQ Files/DATA/mutations_ref_aligned_subset_10_21_1_SRR18583258_filtered.fasta.txt\n",
            "Mutation report written to /content/drive/My Drive/Fall 2023/Introduction to Genomic Information Science and Technology/ECBME4060 Final Project/Variant FASTQ Files/DATA/mutations_ref_aligned_subset_3_22_1_SRR18583052_filtered.fasta.txt\n",
            "Mutation report written to /content/drive/My Drive/Fall 2023/Introduction to Genomic Information Science and Technology/ECBME4060 Final Project/Variant FASTQ Files/DATA/mutations_ref_aligned_subset_3_22_2_SRR18583060_filtered.fasta.txt\n",
            "Mutation report written to /content/drive/My Drive/Fall 2023/Introduction to Genomic Information Science and Technology/ECBME4060 Final Project/Variant FASTQ Files/DATA/mutations_ref_aligned_subset_2_22_2_SRR18583062_filtered.fasta.txt\n",
            "Mutation report written to /content/drive/My Drive/Fall 2023/Introduction to Genomic Information Science and Technology/ECBME4060 Final Project/Variant FASTQ Files/DATA/mutations_ref_aligned_subset_2_22_1_SRR18583061_filtered.fasta.txt\n",
            "Mutation report written to /content/drive/My Drive/Fall 2023/Introduction to Genomic Information Science and Technology/ECBME4060 Final Project/Variant FASTQ Files/DATA/mutations_ref_aligned_subset_1_22_2_SRR18583048_filtered.fasta.txt\n",
            "Mutation report written to /content/drive/My Drive/Fall 2023/Introduction to Genomic Information Science and Technology/ECBME4060 Final Project/Variant FASTQ Files/DATA/mutations_ref_aligned_subset_1_22_1_SRR18583047_filtered.fasta.txt\n"
          ]
        }
      ]
    },
    {
      "cell_type": "markdown",
      "source": [
        "## Variant Calling"
      ],
      "metadata": {
        "id": "UKtv_ullTIIg"
      }
    },
    {
      "cell_type": "markdown",
      "source": [
        "Compare each set of mutations for a sequence with those of a variant, as demonstrated by literature: https://www.ncbi.nlm.nih.gov/pmc/articles/PMC9504725/"
      ],
      "metadata": {
        "id": "G3xPBPZlbAS6"
      }
    },
    {
      "cell_type": "code",
      "source": [
        "import csv, collections\n",
        "\n",
        "def read_variant_mutations(csv_file):\n",
        "    variants = {}\n",
        "    with open(csv_file, newline='') as csvfile:\n",
        "        reader = csv.reader(csvfile)\n",
        "        for row in reader:\n",
        "            variant = row[0]\n",
        "            mutations = set(filter(None, [mutation.upper() for mutation in row[1:]]))\n",
        "            variants[variant] = mutations\n",
        "    return variants\n",
        "\n",
        "variants_csv = DATA / \"variant_info.csv\"\n",
        "variants = read_variant_mutations(variants_csv)\n",
        "\n",
        "variants"
      ],
      "metadata": {
        "id": "raZIpzg0TMWC",
        "colab": {
          "base_uri": "https://localhost:8080/"
        },
        "outputId": "d778a871-6e95-4a03-fa71-57ce882b86b6"
      },
      "execution_count": null,
      "outputs": [
        {
          "output_type": "execute_result",
          "data": {
            "text/plain": [
              "{'Alpha (B.1.1.7)': {'A570D',\n",
              "  'D1118H',\n",
              "  'D614G',\n",
              "  'HV69-',\n",
              "  'N501Y',\n",
              "  'P681H',\n",
              "  'S982A',\n",
              "  'T716I',\n",
              "  'Y144'},\n",
              " 'Beta (B.1.351)': {'A701V',\n",
              "  'D215G',\n",
              "  'D614G',\n",
              "  'D80A',\n",
              "  'E484K',\n",
              "  'K417N',\n",
              "  'L18F',\n",
              "  'LAL242-',\n",
              "  'N501Y',\n",
              "  'R246I'},\n",
              " 'Gamma (P.1)': {'D614G',\n",
              "  'E484K',\n",
              "  'H655Y',\n",
              "  'K417T',\n",
              "  'N501Y',\n",
              "  'T1027I',\n",
              "  'V1176F'},\n",
              " 'Zeta (P.2)': {'D614G', 'E484K', 'V1176F'},\n",
              " 'Eta (B.1.525)': {'A67V',\n",
              "  'D614G',\n",
              "  'E484K',\n",
              "  'F888L',\n",
              "  'HV69-',\n",
              "  'Q52R',\n",
              "  'Q677H',\n",
              "  'Y144'},\n",
              " 'Kappa (B.1.617.1)': {'D614G',\n",
              "  'E154K',\n",
              "  'E484Q',\n",
              "  'G142D',\n",
              "  'L452R',\n",
              "  'P681R',\n",
              "  'Q1071H',\n",
              "  'T95I'},\n",
              " 'Delta (B.1.617)': {'D614G',\n",
              "  'D950N',\n",
              "  'FR157-158',\n",
              "  'L452R',\n",
              "  'P681R',\n",
              "  'T19R',\n",
              "  'T478K'},\n",
              " 'Delta (AY.1)': {'D614G',\n",
              "  'D950N',\n",
              "  'FR157-158',\n",
              "  'G142D',\n",
              "  'K417N',\n",
              "  'L452R',\n",
              "  'P681R',\n",
              "  'T19R',\n",
              "  'T478K',\n",
              "  'W258L'},\n",
              " 'Delta (AY.2)': {'A222V',\n",
              "  'D614G',\n",
              "  'D950N',\n",
              "  'FR157-158',\n",
              "  'G142D',\n",
              "  'K417N',\n",
              "  'L452R',\n",
              "  'P681R',\n",
              "  'T19R',\n",
              "  'T478K',\n",
              "  'V70F'},\n",
              " 'Delta (AY.4)': {'D614G',\n",
              "  'D950N',\n",
              "  'FR157-158',\n",
              "  'G142D',\n",
              "  'L452R',\n",
              "  'P681R',\n",
              "  'T19R',\n",
              "  'T478K',\n",
              "  'T95I'},\n",
              " 'Delta (AY.4.2)': {'A222V',\n",
              "  'D614G',\n",
              "  'D950N',\n",
              "  'FR157-158',\n",
              "  'G142D',\n",
              "  'L452R',\n",
              "  'P681R',\n",
              "  'T19R',\n",
              "  'T478K',\n",
              "  'T95I',\n",
              "  'Y145H'},\n",
              " 'Lambda (C.37)': {'D614G',\n",
              "  'F490S',\n",
              "  'G75V',\n",
              "  'L452Q',\n",
              "  'RSYLTPG246',\n",
              "  'T76I',\n",
              "  'T859N'},\n",
              " 'Mu (B.1.621)': {'D614G', 'E484K', 'N501Y', 'P681H', 'T95I', 'Y145N'},\n",
              " 'Omicron (BA.1)': {'D614G',\n",
              "  'D796Y',\n",
              "  'E484A',\n",
              "  'G339D',\n",
              "  'G446S',\n",
              "  'G496S',\n",
              "  'H665Y',\n",
              "  'K417N',\n",
              "  'L981F',\n",
              "  'N440K',\n",
              "  'N501Y',\n",
              "  'N679K',\n",
              "  'N764K',\n",
              "  'N856K',\n",
              "  'N969K',\n",
              "  'P681H',\n",
              "  'Q493R',\n",
              "  'Q498R',\n",
              "  'Q954H',\n",
              "  'S371L',\n",
              "  'S373P',\n",
              "  'S375F',\n",
              "  'S477N',\n",
              "  'T478K',\n",
              "  'T547K',\n",
              "  'Y505H'},\n",
              " 'Omicron (BA.2)': {'D405N',\n",
              "  'D614G',\n",
              "  'D796Y',\n",
              "  'E484A',\n",
              "  'G339D',\n",
              "  'H665Y',\n",
              "  'K417N',\n",
              "  'N440K',\n",
              "  'N501Y',\n",
              "  'N679K',\n",
              "  'N764K',\n",
              "  'N969K',\n",
              "  'P681H',\n",
              "  'Q493R',\n",
              "  'Q498R',\n",
              "  'Q954H',\n",
              "  'R408S',\n",
              "  'S371L',\n",
              "  'S373P',\n",
              "  'S375F',\n",
              "  'S477N',\n",
              "  'T376A',\n",
              "  'T478K',\n",
              "  'Y505H'},\n",
              " 'Omicron (BA.3/BA.4)': {'D405N',\n",
              "  'D614G',\n",
              "  'D796Y',\n",
              "  'E484A',\n",
              "  'F496V',\n",
              "  'G339D',\n",
              "  'H665Y',\n",
              "  'K417N',\n",
              "  'L452R',\n",
              "  'N440K',\n",
              "  'N501Y',\n",
              "  'N679K',\n",
              "  'N764K',\n",
              "  'N969K',\n",
              "  'P681H',\n",
              "  'Q498R',\n",
              "  'Q954H',\n",
              "  'R408S',\n",
              "  'S371L',\n",
              "  'S373P',\n",
              "  'S375F',\n",
              "  'S477N',\n",
              "  'T376A',\n",
              "  'T478K',\n",
              "  'Y505H'}}"
            ]
          },
          "metadata": {},
          "execution_count": 19
        }
      ]
    },
    {
      "cell_type": "code",
      "source": [
        "import os\n",
        "\n",
        "def calculate_similarity(seq_mutations, var_mutations):\n",
        "    seq_mut_set = set([mutation for mutation in seq_mutations.split(\",\")])\n",
        "    var_mut_set = set([mutation for mutation in var_mutations])\n",
        "    common_mutations = seq_mut_set.intersection(var_mut_set)\n",
        "    similarity = len(common_mutations) / max(len(seq_mut_set), len(var_mut_set))\n",
        "    return similarity, common_mutations\n",
        "\n",
        "def find_closest_variant(seq_mutations, variants_dict):\n",
        "    closest_variant = None\n",
        "    max_similarity = 0\n",
        "    overlapping_mutations = set()\n",
        "\n",
        "    for variant, var_mutations in variants_dict.items():\n",
        "        similarity, common_mutations = calculate_similarity(seq_mutations, var_mutations)\n",
        "        if similarity > max_similarity:\n",
        "            max_similarity = similarity\n",
        "            closest_variant = variant\n",
        "            overlapping_mutations = common_mutations\n",
        "\n",
        "    return closest_variant, max_similarity, overlapping_mutations\n",
        "\n",
        "for filename in os.listdir(DATA):\n",
        "    if filename.startswith(\"mutations_ref_\"):  # Modify the condition based on your file extension\n",
        "        input_file_path = os.path.join(DATA, filename)\n",
        "        output_file_path = os.path.join(DATA, f\"{filename}_variants.txt\")\n",
        "\n",
        "        with open(output_file_path, \"w\") as output:\n",
        "            for line in open(input_file_path):\n",
        "                if \"mutations:\" in line:\n",
        "                    sequence_name, mutations = line.strip().split(\" mutations: \")\n",
        "                    closest_variant, similarity, overlapping_mutations = find_closest_variant(mutations, variants)\n",
        "                    output.write(f\"{sequence_name} closest_variant: {closest_variant}, similarity: {similarity}\\n\")\n",
        "                    output.write(f\"Overlapping Mutations: {', '.join(set(variants[closest_variant]))}\\n\")"
      ],
      "metadata": {
        "id": "WOoZS7DiVg9n"
      },
      "execution_count": null,
      "outputs": []
    },
    {
      "cell_type": "markdown",
      "source": [
        "##Summarization"
      ],
      "metadata": {
        "id": "bWJd-l7PW3s4"
      }
    },
    {
      "cell_type": "code",
      "source": [
        "import os\n",
        "from collections import defaultdict\n",
        "\n",
        "def process_file(input_file_path):\n",
        "    variant_count = defaultdict(int)\n",
        "    variant_mutations = defaultdict(set)\n",
        "\n",
        "    with open(input_file_path, 'r') as file:\n",
        "        for line in file:\n",
        "            if 'closest_variant:' in line:\n",
        "                parts = line.split('closest_variant: ')\n",
        "                variant = parts[1].split(',')[0].strip()\n",
        "                variant_count[variant] += 1\n",
        "\n",
        "            if 'Overlapping Mutations:' in line:\n",
        "                mutations = line.split('Overlapping Mutations: ')[1].strip().split(', ')\n",
        "                variant_mutations[variant].update(mutations)\n",
        "\n",
        "    return variant_count, variant_mutations\n",
        "\n",
        "for filename in os.listdir(DATA):\n",
        "    if filename.startswith(\"mutations_ref_\") and filename.endswith(\"_variants.txt\"):\n",
        "        input_file_path = os.path.join(DATA, filename)\n",
        "        variant_count, variant_mutations = process_file(input_file_path)\n",
        "\n",
        "        summary_file_path = os.path.join(DATA, f\"{filename}_summary.txt\")\n",
        "        with open(summary_file_path, 'w') as summary_file:\n",
        "            for variant, count in variant_count.items():\n",
        "                summary_file.write(f\"Variant: {variant}, Sequence Count: {count}\\n\")\n",
        "                mutations = ', '.join(variant_mutations[variant])\n",
        "                summary_file.write(f\"Associated Mutations: {mutations}\\n\\n\")\n",
        "\n",
        "print(\"Summary files created successfully.\")"
      ],
      "metadata": {
        "id": "-oPhweuQW60f",
        "colab": {
          "base_uri": "https://localhost:8080/"
        },
        "outputId": "b9b8c32b-d595-419e-df23-cfdf51eb2769"
      },
      "execution_count": null,
      "outputs": [
        {
          "output_type": "stream",
          "name": "stdout",
          "text": [
            "Summary files created successfully.\n"
          ]
        }
      ]
    }
  ]
}